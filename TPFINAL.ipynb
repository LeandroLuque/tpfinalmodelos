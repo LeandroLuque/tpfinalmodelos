{
 "cells": [
  {
   "cell_type": "code",
   "execution_count": 103,
   "metadata": {
    "collapsed": true
   },
   "outputs": [],
   "source": [
    "import numpy as np\n",
    "import pandas as pd\n",
    "from collections import deque"
   ]
  },
  {
   "cell_type": "code",
   "execution_count": 85,
   "metadata": {
    "collapsed": false
   },
   "outputs": [],
   "source": [
    "class Paciente:\n",
    "    \n",
    "    nro_paciente = 0\n",
    "    \n",
    "    def __init__(self):\n",
    "        Paciente.nro_paciente = self.nro_paciente = Paciente.nro_paciente + 1\n",
    "        self.tiempo_internacion = np.random.exponential(2)\n",
    "        self.quirofano = np.random.choice([True,False])\n",
    "        \n",
    "    @property\n",
    "    def tiempo_internacion(self):\n",
    "        return self.__tiempo_internacion\n",
    "\n",
    "    @tiempo_internacion.setter\n",
    "    def tiempo_internacion(self,x):\n",
    "        self.__tiempo_internacion = x\n",
    "        \n",
    "    @property\n",
    "    def quirofano(self):\n",
    "        return self.__quirofano\n",
    "\n",
    "    @quirofano.setter\n",
    "    def quirofano(self,x):\n",
    "        self.__quirofano = x\n"
   ]
  },
  {
   "cell_type": "code",
   "execution_count": 104,
   "metadata": {
    "collapsed": false
   },
   "outputs": [],
   "source": [
    "class Hospital:\n",
    "    \n",
    "    def __init__(self, cantidad_camas):\n",
    "        self.camas = {x:None for x in range(1, cantidad_camas+1)}\n",
    "        self.cola_internacion = deque([])\n",
    "    \n",
    "    @property\n",
    "    def camas(self):\n",
    "        return self.__camas\n",
    "    \n",
    "    @camas.setter\n",
    "    def camas(self,x):\n",
    "        self.__camas = x\n",
    "        \n",
    "    def get_paciente_a_internar(self):\n",
    "        \"\"\"\n",
    "            Obtiene el proximo paciente que esta en\n",
    "            la cola de inte\n",
    "        \"\"\"\n",
    "        return self.cola_internacion.popleft()\n",
    "    \n",
    "    def set_paciente_a_internar(self,paciente):\n",
    "        \"\"\"\n",
    "            Agrega paciente a la cola de espera\n",
    "            para internacion\n",
    "        \"\"\"\n",
    "        self.cola_internacion.append(paciente)\n",
    "    \n",
    "    def internar(self,paciente):\n",
    "        \"\"\"\n",
    "            En este punto hay que hacer la\n",
    "            internacion del paciente. Asignacion de\n",
    "            cama y encolarlo para operarlo, si es que \n",
    "            tiene orden para quirofano\n",
    "        \"\"\"\n",
    "        pass\n",
    "        \n",
    "    def alta_paciente(self,paciente):\n",
    "        \"\"\"\n",
    "            Se tiene que liberar la cama en la que\n",
    "            estaba el paciente.\n",
    "        \"\"\"\n",
    "        pass"
   ]
  },
  {
   "cell_type": "code",
   "execution_count": 105,
   "metadata": {
    "collapsed": false
   },
   "outputs": [],
   "source": [
    "class SalaOperatoria:\n",
    "    \n",
    "    def __init__(self):\n",
    "        self.quirofano1 = False\n",
    "        self.quirofano2 = False\n",
    "        \n",
    "    def operar(self,paciente):\n",
    "        \"\"\"\n",
    "            Aca hay que dejar pasar el tiempo de\n",
    "            operacion para el paciente dado\n",
    "        \"\"\"\n",
    "        pass"
   ]
  },
  {
   "cell_type": "code",
   "execution_count": 94,
   "metadata": {
    "collapsed": false
   },
   "outputs": [],
   "source": [
    "paciente = Paciente()"
   ]
  },
  {
   "cell_type": "code",
   "execution_count": 95,
   "metadata": {
    "collapsed": false
   },
   "outputs": [
    {
     "data": {
      "text/plain": [
       "4"
      ]
     },
     "execution_count": 95,
     "metadata": {},
     "output_type": "execute_result"
    }
   ],
   "source": [
    "paciente.nro_paciente"
   ]
  },
  {
   "cell_type": "code",
   "execution_count": 106,
   "metadata": {
    "collapsed": false
   },
   "outputs": [],
   "source": [
    "a = deque([])"
   ]
  },
  {
   "cell_type": "code",
   "execution_count": 109,
   "metadata": {
    "collapsed": false
   },
   "outputs": [],
   "source": [
    "a.append(5)"
   ]
  },
  {
   "cell_type": "code",
   "execution_count": 112,
   "metadata": {
    "collapsed": false
   },
   "outputs": [
    {
     "data": {
      "text/plain": [
       "deque([5])"
      ]
     },
     "execution_count": 112,
     "metadata": {},
     "output_type": "execute_result"
    }
   ],
   "source": [
    "a"
   ]
  },
  {
   "cell_type": "code",
   "execution_count": 111,
   "metadata": {
    "collapsed": false
   },
   "outputs": [
    {
     "data": {
      "text/plain": [
       "4"
      ]
     },
     "execution_count": 111,
     "metadata": {},
     "output_type": "execute_result"
    }
   ],
   "source": [
    "a.popleft()"
   ]
  },
  {
   "cell_type": "code",
   "execution_count": null,
   "metadata": {
    "collapsed": true
   },
   "outputs": [],
   "source": []
  }
 ],
 "metadata": {
  "kernelspec": {
   "display_name": "Python 3",
   "language": "python",
   "name": "python3"
  },
  "language_info": {
   "codemirror_mode": {
    "name": "ipython",
    "version": 3
   },
   "file_extension": ".py",
   "mimetype": "text/x-python",
   "name": "python",
   "nbconvert_exporter": "python",
   "pygments_lexer": "ipython3",
   "version": "3.4.3"
  }
 },
 "nbformat": 4,
 "nbformat_minor": 0
}
